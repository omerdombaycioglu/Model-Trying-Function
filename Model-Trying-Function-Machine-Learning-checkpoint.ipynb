{
 "cells": [
  {
   "cell_type": "code",
   "execution_count": 81,
   "id": "a1b71817-3a9d-4183-979c-8e9a7be41632",
   "metadata": {},
   "outputs": [],
   "source": [
    "import pandas as pd \n",
    "import numpy as np\n",
    "import matplotlib.pyplot as plt\n",
    "from sklearn.preprocessing import scale\n",
    "from sklearn.preprocessing import StandardScaler\n",
    "from sklearn.model_selection import train_test_split, GridSearchCV\n",
    "from sklearn.neighbors import KNeighborsRegressor\n",
    "from sklearn.ensemble import RandomForestRegressor,GradientBoostingRegressor\n",
    "from sklearn.linear_model import LinearRegression\n",
    "from sklearn.tree import DecisionTreeRegressor\n",
    "from sklearn.neural_network import MLPRegressor\n",
    "from sklearn import neighbors\n",
    "from sklearn.metrics import mean_squared_error\n",
    "from sklearn.svm import SVR\n",
    "from lightgbm import LGBMRegressor\n"
   ]
  },
  {
   "cell_type": "code",
   "execution_count": 82,
   "id": "d2e6551f-70f4-4bc7-8112-9881b3409496",
   "metadata": {},
   "outputs": [],
   "source": [
    "from warnings import filterwarnings\n",
    "filterwarnings('ignore')"
   ]
  },
  {
   "cell_type": "code",
   "execution_count": 83,
   "id": "29141b70-f889-49b2-993b-f8d37560f725",
   "metadata": {},
   "outputs": [],
   "source": [
    "df = pd.read_csv(\"Hitters.csv\")\n",
    "df = df.dropna()\n",
    "dms = pd.get_dummies(df[['League','Division','NewLeague']])"
   ]
  },
  {
   "cell_type": "code",
   "execution_count": 88,
   "id": "52c394bc-b328-426d-95df-47bc9907e212",
   "metadata": {},
   "outputs": [],
   "source": [
    "def compML(df, y, alg):\n",
    "    # train-test ayrımı\n",
    "    y = df[y]\n",
    "    X_ = df.drop(['Salary','League','Division','NewLeague'],axis=1).astype('float64')\n",
    "    X = pd.concat([X_,dms[[\"League_N\",\"Division_W\",\"NewLeague_N\"]]],axis=1)\n",
    "    X_train,X_test,y_train,y_test = train_test_split(X,y,test_size=0.25,random_state=42)\n",
    "\n",
    "    # modelleme\n",
    "    model = alg().fit(X_train,y_train)\n",
    "    y_pred = model.predict(X_test)\n",
    "    RMSE = np.sqrt(mean_squared_error(y_test,y_pred))\n",
    "    model_name = alg.__name__\n",
    "    print(model_name +\" için test hatası: \" +str(RMSE))"
   ]
  },
  {
   "cell_type": "code",
   "execution_count": 89,
   "id": "1c973518-ecc3-4d62-a596-05317bca9df0",
   "metadata": {},
   "outputs": [
    {
     "name": "stdout",
     "output_type": "stream",
     "text": [
      "SVR için test hatası: 460.0032657244849\n"
     ]
    }
   ],
   "source": [
    "compML(df,\"Salary\",SVR)\n"
   ]
  },
  {
   "cell_type": "code",
   "execution_count": 90,
   "id": "8c99a4e9-07c3-4cc3-8d9f-8bd1c98972d4",
   "metadata": {},
   "outputs": [],
   "source": [
    "models = [GradientBoostingRegressor,\n",
    "         DecisionTreeRegressor,\n",
    "         MLPRegressor,\n",
    "         KNeighborsRegressor,\n",
    "         SVR]"
   ]
  },
  {
   "cell_type": "code",
   "execution_count": 91,
   "id": "1eb791f1-b614-4fb2-8d24-1b770312be29",
   "metadata": {},
   "outputs": [
    {
     "name": "stdout",
     "output_type": "stream",
     "text": [
      "GradientBoostingRegressor için test hatası: 356.35803996821335\n",
      "DecisionTreeRegressor için test hatası: 427.9783953503749\n",
      "MLPRegressor için test hatası: 418.1496776436507\n",
      "KNeighborsRegressor için test hatası: 426.6570764525201\n",
      "SVR için test hatası: 460.0032657244849\n"
     ]
    }
   ],
   "source": [
    "for eleman in models:\n",
    "    rmse = compML(df,\"Salary\",eleman)\n",
    "    \n",
    "    "
   ]
  },
  {
   "cell_type": "code",
   "execution_count": null,
   "id": "fb448e9c-f7d1-412c-b6ee-8973fda43d8d",
   "metadata": {},
   "outputs": [],
   "source": []
  },
  {
   "cell_type": "code",
   "execution_count": null,
   "id": "d7609fc8-72fa-4019-a082-fe35c464938b",
   "metadata": {},
   "outputs": [],
   "source": []
  }
 ],
 "metadata": {
  "kernelspec": {
   "display_name": "Python 3 (ipykernel)",
   "language": "python",
   "name": "python3"
  },
  "language_info": {
   "codemirror_mode": {
    "name": "ipython",
    "version": 3
   },
   "file_extension": ".py",
   "mimetype": "text/x-python",
   "name": "python",
   "nbconvert_exporter": "python",
   "pygments_lexer": "ipython3",
   "version": "3.11.0"
  }
 },
 "nbformat": 4,
 "nbformat_minor": 5
}
